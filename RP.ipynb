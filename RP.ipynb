{
  "nbformat": 4,
  "nbformat_minor": 0,
  "metadata": {
    "colab": {
      "name": "RP.ipynb",
      "provenance": [],
      "collapsed_sections": [],
      "toc_visible": true,
      "include_colab_link": true
    },
    "kernelspec": {
      "name": "python3",
      "display_name": "Python 3"
    },
    "accelerator": "GPU",
    "widgets": {
      "application/vnd.jupyter.widget-state+json": {
        "6c6730c8eb0a4739956850a3d4ba4c1a": {
          "model_module": "@jupyter-widgets/controls",
          "model_name": "HBoxModel",
          "state": {
            "_view_name": "HBoxView",
            "_dom_classes": [],
            "_model_name": "HBoxModel",
            "_view_module": "@jupyter-widgets/controls",
            "_model_module_version": "1.5.0",
            "_view_count": null,
            "_view_module_version": "1.5.0",
            "box_style": "",
            "layout": "IPY_MODEL_dce85b35a9cf4d1e8fa8d585dd0142e4",
            "_model_module": "@jupyter-widgets/controls",
            "children": [
              "IPY_MODEL_76cad2b48fe440e594861958f68bb139",
              "IPY_MODEL_6fdddb1128274fed9c2af5ec1cb5595a"
            ]
          }
        },
        "dce85b35a9cf4d1e8fa8d585dd0142e4": {
          "model_module": "@jupyter-widgets/base",
          "model_name": "LayoutModel",
          "state": {
            "_view_name": "LayoutView",
            "grid_template_rows": null,
            "right": null,
            "justify_content": null,
            "_view_module": "@jupyter-widgets/base",
            "overflow": null,
            "_model_module_version": "1.2.0",
            "_view_count": null,
            "flex_flow": null,
            "width": null,
            "min_width": null,
            "border": null,
            "align_items": null,
            "bottom": null,
            "_model_module": "@jupyter-widgets/base",
            "top": null,
            "grid_column": null,
            "overflow_y": null,
            "overflow_x": null,
            "grid_auto_flow": null,
            "grid_area": null,
            "grid_template_columns": null,
            "flex": null,
            "_model_name": "LayoutModel",
            "justify_items": null,
            "grid_row": null,
            "max_height": null,
            "align_content": null,
            "visibility": null,
            "align_self": null,
            "height": null,
            "min_height": null,
            "padding": null,
            "grid_auto_rows": null,
            "grid_gap": null,
            "max_width": null,
            "order": null,
            "_view_module_version": "1.2.0",
            "grid_template_areas": null,
            "object_position": null,
            "object_fit": null,
            "grid_auto_columns": null,
            "margin": null,
            "display": null,
            "left": null
          }
        },
        "76cad2b48fe440e594861958f68bb139": {
          "model_module": "@jupyter-widgets/controls",
          "model_name": "IntProgressModel",
          "state": {
            "_view_name": "ProgressView",
            "style": "IPY_MODEL_7977c4c1f8934d419b14bc817aaa8553",
            "_dom_classes": [],
            "description": "",
            "_model_name": "IntProgressModel",
            "bar_style": "info",
            "max": 1,
            "_view_module": "@jupyter-widgets/controls",
            "_model_module_version": "1.5.0",
            "value": 1,
            "_view_count": null,
            "_view_module_version": "1.5.0",
            "orientation": "horizontal",
            "min": 0,
            "description_tooltip": null,
            "_model_module": "@jupyter-widgets/controls",
            "layout": "IPY_MODEL_cd9f25c686734ff5a0f00e51ef77264f"
          }
        },
        "6fdddb1128274fed9c2af5ec1cb5595a": {
          "model_module": "@jupyter-widgets/controls",
          "model_name": "HTMLModel",
          "state": {
            "_view_name": "HTMLView",
            "style": "IPY_MODEL_5a55790de5a248bb80990e5004c9a44f",
            "_dom_classes": [],
            "description": "",
            "_model_name": "HTMLModel",
            "placeholder": "​",
            "_view_module": "@jupyter-widgets/controls",
            "_model_module_version": "1.5.0",
            "value": " 170500096/? [00:20&lt;00:00, 32265308.36it/s]",
            "_view_count": null,
            "_view_module_version": "1.5.0",
            "description_tooltip": null,
            "_model_module": "@jupyter-widgets/controls",
            "layout": "IPY_MODEL_38a51c2733d14a81aaea1d2d85ea21b2"
          }
        },
        "7977c4c1f8934d419b14bc817aaa8553": {
          "model_module": "@jupyter-widgets/controls",
          "model_name": "ProgressStyleModel",
          "state": {
            "_view_name": "StyleView",
            "_model_name": "ProgressStyleModel",
            "description_width": "initial",
            "_view_module": "@jupyter-widgets/base",
            "_model_module_version": "1.5.0",
            "_view_count": null,
            "_view_module_version": "1.2.0",
            "bar_color": null,
            "_model_module": "@jupyter-widgets/controls"
          }
        },
        "cd9f25c686734ff5a0f00e51ef77264f": {
          "model_module": "@jupyter-widgets/base",
          "model_name": "LayoutModel",
          "state": {
            "_view_name": "LayoutView",
            "grid_template_rows": null,
            "right": null,
            "justify_content": null,
            "_view_module": "@jupyter-widgets/base",
            "overflow": null,
            "_model_module_version": "1.2.0",
            "_view_count": null,
            "flex_flow": null,
            "width": null,
            "min_width": null,
            "border": null,
            "align_items": null,
            "bottom": null,
            "_model_module": "@jupyter-widgets/base",
            "top": null,
            "grid_column": null,
            "overflow_y": null,
            "overflow_x": null,
            "grid_auto_flow": null,
            "grid_area": null,
            "grid_template_columns": null,
            "flex": null,
            "_model_name": "LayoutModel",
            "justify_items": null,
            "grid_row": null,
            "max_height": null,
            "align_content": null,
            "visibility": null,
            "align_self": null,
            "height": null,
            "min_height": null,
            "padding": null,
            "grid_auto_rows": null,
            "grid_gap": null,
            "max_width": null,
            "order": null,
            "_view_module_version": "1.2.0",
            "grid_template_areas": null,
            "object_position": null,
            "object_fit": null,
            "grid_auto_columns": null,
            "margin": null,
            "display": null,
            "left": null
          }
        },
        "5a55790de5a248bb80990e5004c9a44f": {
          "model_module": "@jupyter-widgets/controls",
          "model_name": "DescriptionStyleModel",
          "state": {
            "_view_name": "StyleView",
            "_model_name": "DescriptionStyleModel",
            "description_width": "",
            "_view_module": "@jupyter-widgets/base",
            "_model_module_version": "1.5.0",
            "_view_count": null,
            "_view_module_version": "1.2.0",
            "_model_module": "@jupyter-widgets/controls"
          }
        },
        "38a51c2733d14a81aaea1d2d85ea21b2": {
          "model_module": "@jupyter-widgets/base",
          "model_name": "LayoutModel",
          "state": {
            "_view_name": "LayoutView",
            "grid_template_rows": null,
            "right": null,
            "justify_content": null,
            "_view_module": "@jupyter-widgets/base",
            "overflow": null,
            "_model_module_version": "1.2.0",
            "_view_count": null,
            "flex_flow": null,
            "width": null,
            "min_width": null,
            "border": null,
            "align_items": null,
            "bottom": null,
            "_model_module": "@jupyter-widgets/base",
            "top": null,
            "grid_column": null,
            "overflow_y": null,
            "overflow_x": null,
            "grid_auto_flow": null,
            "grid_area": null,
            "grid_template_columns": null,
            "flex": null,
            "_model_name": "LayoutModel",
            "justify_items": null,
            "grid_row": null,
            "max_height": null,
            "align_content": null,
            "visibility": null,
            "align_self": null,
            "height": null,
            "min_height": null,
            "padding": null,
            "grid_auto_rows": null,
            "grid_gap": null,
            "max_width": null,
            "order": null,
            "_view_module_version": "1.2.0",
            "grid_template_areas": null,
            "object_position": null,
            "object_fit": null,
            "grid_auto_columns": null,
            "margin": null,
            "display": null,
            "left": null
          }
        }
      }
    }
  },
  "cells": [
    {
      "cell_type": "markdown",
      "metadata": {
        "id": "view-in-github",
        "colab_type": "text"
      },
      "source": [
        "<a href=\"https://colab.research.google.com/github/NickLeenders/Reproduce_BC_Learning/blob/master/RP.ipynb\" target=\"_parent\"><img src=\"https://colab.research.google.com/assets/colab-badge.svg\" alt=\"Open In Colab\"/></a>"
      ]
    },
    {
      "cell_type": "markdown",
      "metadata": {
        "id": "TMEQKpf6nOdA",
        "colab_type": "text"
      },
      "source": [
        "# Reproduction by using Pytorch\n",
        "\n",
        "To reproduce the results of the paper 'Between-class Learning for Image Classification' the code is made available by the authors. However, this code is written in python 2 with a very early version of the Chainer library. Since we had to work on Google Colabs in order to make use of GPU computing this old versions did not work anymore. Therefore, we decided to approach the reproduction in two ways:\n",
        "\n",
        "1. By building our own version in Pytorch which is done in this Google Colab\n",
        "2. Update the original code from the authors by making it compatible with python 3 and the newest version of Chainer. To keep the structure of the code intact it was modified offline whereafter is loaded into a Google Colab which can be found in the github repository at the end of this section. Furthermore, an effort is made to change as little as possible since the goal is to reproduce. The (offline) code can be found in the following Github repository: https://github.com/tjsgertsen/Chainer_repro.git\n",
        "\n",
        "First thing to do is mounting your google drive in order to save results:"
      ]
    },
    {
      "cell_type": "code",
      "metadata": {
        "id": "jf_oX3okpf0R",
        "colab_type": "code",
        "outputId": "721cbab3-a053-4e76-b069-5709c3ef9775",
        "colab": {
          "base_uri": "https://localhost:8080/",
          "height": 122
        }
      },
      "source": [
        "from google.colab import drive\n",
        "drive.mount('/content/drive')"
      ],
      "execution_count": 0,
      "outputs": [
        {
          "output_type": "stream",
          "text": [
            "Go to this URL in a browser: https://accounts.google.com/o/oauth2/auth?client_id=947318989803-6bn6qk8qdgf4n4g3pfee6491hc0brc4i.apps.googleusercontent.com&redirect_uri=urn%3aietf%3awg%3aoauth%3a2.0%3aoob&response_type=code&scope=email%20https%3a%2f%2fwww.googleapis.com%2fauth%2fdocs.test%20https%3a%2f%2fwww.googleapis.com%2fauth%2fdrive%20https%3a%2f%2fwww.googleapis.com%2fauth%2fdrive.photos.readonly%20https%3a%2f%2fwww.googleapis.com%2fauth%2fpeopleapi.readonly\n",
            "\n",
            "Enter your authorization code:\n",
            "··········\n",
            "Mounted at /content/drive\n"
          ],
          "name": "stdout"
        }
      ]
    },
    {
      "cell_type": "code",
      "metadata": {
        "id": "Iggff7Mdw1P1",
        "colab_type": "code",
        "outputId": "52d06410-477c-4a13-9d16-b3cb4e4cb52a",
        "colab": {
          "base_uri": "https://localhost:8080/",
          "height": 34
        }
      },
      "source": [
        "# Imports\n",
        "import time\n",
        "import torch\n",
        "import torchvision\n",
        "import torchvision.transforms as transforms\n",
        "import matplotlib.pyplot as plt\n",
        "import numpy as np\n",
        "import torch.nn as nn\n",
        "import torch.nn.functional as F\n",
        "from collections import OrderedDict\n",
        "import torch.optim as optim\n",
        "import random\n",
        "from torch.optim.lr_scheduler import MultiStepLR, StepLR\n",
        "import torchvision.models as models\n",
        "from os import listdir\n",
        "from os.path import isfile, join\n",
        "\n",
        "print('Imports complete')"
      ],
      "execution_count": 0,
      "outputs": [
        {
          "output_type": "stream",
          "text": [
            "Imports complete\n"
          ],
          "name": "stdout"
        }
      ]
    },
    {
      "cell_type": "markdown",
      "metadata": {
        "id": "oMV9xHLLpYO2",
        "colab_type": "text"
      },
      "source": [
        "# ResNet Architecture\n",
        "\n",
        "In the following block of code the ResNet architecture is built. It consists of three building blocks, structured by classes, namely the BasisBlock, the BottleNeck and the ResNet itself which combines everything together."
      ]
    },
    {
      "cell_type": "code",
      "metadata": {
        "id": "Xkf-abah7vVl",
        "colab_type": "code",
        "outputId": "185d2a17-b3a2-4dce-b0e5-4b738fa55e47",
        "colab": {
          "base_uri": "https://localhost:8080/",
          "height": 34
        }
      },
      "source": [
        "# ResNet define\n",
        "class BasicBlock(nn.Module):\n",
        "    expansion = 1\n",
        "\n",
        "    def __init__(self, in_planes, planes, stride=1):\n",
        "        super(BasicBlock, self).__init__()\n",
        "        self.conv1 = nn.Conv2d(in_planes, planes, kernel_size=3, stride=stride, padding=1, bias=False)\n",
        "        self.bn1 = nn.BatchNorm2d(planes)\n",
        "        self.conv2 = nn.Conv2d(planes, planes, kernel_size=3, stride=1, padding=1, bias=False)\n",
        "        self.bn2 = nn.BatchNorm2d(planes)\n",
        "\n",
        "        self.shortcut = nn.Sequential()\n",
        "        if stride != 1 or in_planes != self.expansion*planes:\n",
        "            self.shortcut = nn.Sequential(\n",
        "                nn.Conv2d(in_planes, self.expansion*planes, kernel_size=1, stride=stride, bias=False),\n",
        "                nn.BatchNorm2d(self.expansion*planes)\n",
        "            )\n",
        "\n",
        "    def forward(self, x):\n",
        "        out = F.relu(self.bn1(self.conv1(x)))\n",
        "        out = self.bn2(self.conv2(out))\n",
        "        out += self.shortcut(x)\n",
        "        out = F.relu(out)\n",
        "        return out\n",
        "\n",
        "\n",
        "class Bottleneck(nn.Module):\n",
        "    expansion = 4\n",
        "\n",
        "    def __init__(self, in_planes, planes, stride=1):\n",
        "        super(Bottleneck, self).__init__()\n",
        "        self.conv1 = nn.Conv2d(in_planes, planes, kernel_size=1, bias=False)\n",
        "        self.bn1 = nn.BatchNorm2d(planes)\n",
        "        self.conv2 = nn.Conv2d(planes, planes, kernel_size=3, stride=stride, padding=1, bias=False)\n",
        "        self.bn2 = nn.BatchNorm2d(planes)\n",
        "        self.conv3 = nn.Conv2d(planes, self.expansion*planes, kernel_size=1, bias=False)\n",
        "        self.bn3 = nn.BatchNorm2d(self.expansion*planes)\n",
        "\n",
        "        self.shortcut = nn.Sequential()\n",
        "        if stride != 1 or in_planes != self.expansion*planes:\n",
        "            self.shortcut = nn.Sequential(\n",
        "                nn.Conv2d(in_planes, self.expansion*planes, kernel_size=1, stride=stride, bias=False),\n",
        "                nn.BatchNorm2d(self.expansion*planes)\n",
        "            )\n",
        "\n",
        "    def forward(self, x):\n",
        "        out = F.relu(self.bn1(self.conv1(x)))\n",
        "        out = F.relu(self.bn2(self.conv2(out)))\n",
        "        out = self.bn3(self.conv3(out))\n",
        "        out += self.shortcut(x)\n",
        "        out = F.relu(out)\n",
        "        return out\n",
        "\n",
        "\n",
        "class ResNet(nn.Module):\n",
        "    def __init__(self, block, num_blocks, num_classes=10):\n",
        "        super(ResNet, self).__init__()\n",
        "        self.in_planes = 64\n",
        "\n",
        "        self.conv1 = nn.Conv2d(3, 64, kernel_size=3, stride=1, padding=1, bias=False)\n",
        "        self.bn1 = nn.BatchNorm2d(64)\n",
        "        self.layer1 = self._make_layer(block, 64, num_blocks[0], stride=1)\n",
        "        self.layer2 = self._make_layer(block, 128, num_blocks[1], stride=2)\n",
        "        self.layer3 = self._make_layer(block, 256, num_blocks[2], stride=2)\n",
        "        self.layer4 = self._make_layer(block, 512, num_blocks[3], stride=2)\n",
        "        self.linear = nn.Linear(512*block.expansion, num_classes)\n",
        "\n",
        "    def _make_layer(self, block, planes, num_blocks, stride):\n",
        "        strides = [stride] + [1]*(num_blocks-1)\n",
        "        layers = []\n",
        "        for stride in strides:\n",
        "            layers.append(block(self.in_planes, planes, stride))\n",
        "            self.in_planes = planes * block.expansion\n",
        "        return nn.Sequential(*layers)\n",
        "\n",
        "    def forward(self, x):\n",
        "        out = F.relu(self.bn1(self.conv1(x)))\n",
        "        out = self.layer1(out)\n",
        "        out = self.layer2(out)\n",
        "        out = self.layer3(out)\n",
        "        out = self.layer4(out)\n",
        "        out = F.avg_pool2d(out, 4)\n",
        "        out = out.view(out.size(0), -1)\n",
        "        out = self.linear(out)\n",
        "        return out\n",
        "\n",
        "\n",
        "def ResNet18():\n",
        "    return ResNet(BasicBlock, [2,2,2,2])\n",
        "\n",
        "def ResNet34():\n",
        "    return ResNet(BasicBlock, [3,4,6,3])\n",
        "\n",
        "def ResNet50():\n",
        "    return ResNet(Bottleneck, [3,4,6,3])\n",
        "\n",
        "def ResNet101():\n",
        "    return ResNet(Bottleneck, [3,4,23,3])\n",
        "\n",
        "def ResNet152():\n",
        "    return ResNet(Bottleneck, [3,8,36,3])\n",
        "\n",
        "print('ResNet loaded')\n",
        "\n",
        "\n"
      ],
      "execution_count": 0,
      "outputs": [
        {
          "output_type": "stream",
          "text": [
            "ResNet loaded\n"
          ],
          "name": "stdout"
        }
      ]
    },
    {
      "cell_type": "markdown",
      "metadata": {
        "id": "ozn7RpDsq83c",
        "colab_type": "text"
      },
      "source": [
        "# ConvNet Architecture\n",
        "In the following block of code the 11-Layer CNN called 'ConvNet' in this code is built. Every convolutional layer has batch normilization and a ReLU applied. The neural network consist of 8 convolutional and 3 linear layers."
      ]
    },
    {
      "cell_type": "code",
      "metadata": {
        "id": "ojCAZYBoWAY2",
        "colab_type": "code",
        "colab": {}
      },
      "source": [
        "# Network architecture\n",
        "\n",
        "class ConvBNReLu(nn.Module):\n",
        "    def __init__(self, in_channels, out_channels, kernel_size, stride=1, padding=0, bias=False):\n",
        "        super(ConvBNReLu, self).__init__()\n",
        "        self.main = nn.Sequential(\n",
        "            nn.Conv2d(in_channels=in_channels,\n",
        "                      out_channels=out_channels,\n",
        "                      kernel_size=kernel_size,\n",
        "                      stride=stride,\n",
        "                      padding=padding,\n",
        "                      bias=bias),\n",
        "            nn.BatchNorm2d(out_channels),\n",
        "            nn.ReLU()\n",
        "        )\n",
        "\n",
        "    def forward(self, input):\n",
        "        return self.main(input)\n",
        "\n",
        "class Flatten(nn.Module):\n",
        "    def forward(self, x):\n",
        "        x = x.view(x.size()[0], -1)\n",
        "        return x\n",
        "\n",
        "class ConvNet(nn.Module):\n",
        "    def __init__(self, n_classes):\n",
        "        super(ConvNet, self).__init__()\n",
        "        self.model = nn.Sequential(OrderedDict([\n",
        "            ('conv1', ConvBNReLu(3, 64, 3, padding=1)),\n",
        "            ('conv2', ConvBNReLu(64, 64, 3, padding=1)),\n",
        "            ('max_pool1', nn.MaxPool2d(2, stride=2, ceil_mode=True)),\n",
        "            ('conv3', ConvBNReLu(64, 128, 3, padding=1)),\n",
        "            ('conv4', ConvBNReLu(128, 128, 3, padding=1)),\n",
        "            ('max_pool2', nn.MaxPool2d(2, stride=2, ceil_mode=True)),\n",
        "            ('conv5', ConvBNReLu(128, 256, 3, padding=1)),\n",
        "            ('conv6', ConvBNReLu(256, 256, 3, padding=1)),\n",
        "            ('conv7', ConvBNReLu(256, 256, 3, padding=1)),\n",
        "            ('conv8', ConvBNReLu(256, 256, 3, padding=1)),\n",
        "            ('max_pool3', nn.MaxPool2d(2, stride=2, ceil_mode=True)),\n",
        "            ('flatten', Flatten()),\n",
        "            ('fc4', nn.Linear(in_features=256 * 4 * 4, out_features=1024)),\n",
        "            ('relu5', nn.ReLU()),\n",
        "            ('dropout5', nn.Dropout()),\n",
        "            ('fc5', nn.Linear(1024, 1024)),\n",
        "            ('relu6', nn.ReLU()),\n",
        "            ('dropout6', nn.Dropout()),\n",
        "            ('fc6', nn.Linear(1024, n_classes))\n",
        "            ]))\n",
        "\n",
        "    def forward(self, inp):\n",
        "        return self.model(inp)\n"
      ],
      "execution_count": 0,
      "outputs": []
    },
    {
      "cell_type": "markdown",
      "metadata": {
        "id": "FLpXJEwarFON",
        "colab_type": "text"
      },
      "source": [
        "# Mixing functions\n",
        "The mixing functions are defined in the code below. First the general mixing functions for 2 or 3 different images is defined and below that the mixing methods are defined. By changing the parameters 'mixtype' another mixing method can be chosen.\n",
        "\n"
      ]
    },
    {
      "cell_type": "code",
      "metadata": {
        "id": "trb1VVzWUilR",
        "colab_type": "code",
        "colab": {}
      },
      "source": [
        "mixtype = 2\n",
        "\n",
        "def mix(image1, image2, label1, label2, optplus, train):\n",
        "\n",
        "\n",
        "    # Mix two images\n",
        "    r = np.array(random.random())\n",
        "    if optplus:\n",
        "        g1 = np.std(image1)\n",
        "        g2 = np.std(image2)\n",
        "        mu1 = 0\n",
        "        mu2 = 0\n",
        "        p = 1.0 / (1 + g1 / g2 * (1 - r) / r)\n",
        "        image = (((image1 - mu1) * p + (image2 - mu2) * (1 - p)) / np.sqrt(p ** 2 + (1 - p) ** 2)).astype(np.float32)\n",
        "    else:\n",
        "        image = (image1 * r + image2 * (1 - r)).astype(np.float32)\n",
        "\n",
        "    # Mix two labels\n",
        "    eye = np.eye(nClasses)\n",
        "    label = (eye[label1] * r + eye[label2] * (1 - r))\n",
        "\n",
        "    \n",
        "    image = torch.from_numpy(image).float().to(device)\n",
        "    label = torch.from_numpy(label).float().to(device)\n",
        "\n",
        "    return image, label\n",
        "\n",
        "def mix2(image1, image2, image3, label1, label2, label3, optplus, train):\n",
        "\n",
        "\n",
        "    # Mix three images\n",
        "    r1 = np.array(random.random())\n",
        "    r2 = np.array(random.random())\n",
        "\n",
        "    image = image1 * (r1 + r2) / 2 + image2 * (1 - r1) / 2 + image3 * (1 - r2) / 2\n",
        "\n",
        "    # Mix three labels\n",
        "    eye = np.eye(nClasses)\n",
        "    label = (eye[label1] * (r1 + r2) / 2 + eye[label2] * (1 - r1) / 2 + eye[label3] * (1 - r2) / 2)\n",
        "\n",
        "    image = torch.from_numpy(image).float().to(device)\n",
        "    label = torch.from_numpy(label).float().to(device)\n",
        "\n",
        "    return image, label"
      ],
      "execution_count": 0,
      "outputs": []
    },
    {
      "cell_type": "markdown",
      "metadata": {
        "id": "ZFudg3EG0IoO",
        "colab_type": "text"
      },
      "source": [
        "# Ablation analysis of number of mixed classes\n",
        "Reproducing the ablation analysis of number of mixed classes in table 4 of the paper is done by mixing the image which is given as input by the batch with randomly selected images from the same batch. Depending on the mix type (N in the paper) the images with certain classes are filtered out of the batch to comply with the mix type.\n",
        "\n",
        "**mixing_method_1**\n",
        "Represents N=1 which means two images of the same class are mixed.\n",
        "\n",
        "**mixing_method_2**\n",
        "Represents N=1 or N=2. Meaning that two images are mixed where it is allowed that they are from the same class.\n",
        "\n",
        "**mixing_method_3**\n",
        "Represents N=2, so two images are mixed which always have a different class.\n",
        "\n",
        "**mixing_method_4**\n",
        "Represents N=2 or N=3. Mixing two or three images from different classes with a probability of 50%.\n",
        "\n",
        "**mixing_method_5**\n",
        "Represents N=3. This mixes three images always from a different class."
      ]
    },
    {
      "cell_type": "code",
      "metadata": {
        "id": "uo5HFoJ0Ufaz",
        "colab_type": "code",
        "outputId": "37977a91-ce87-4537-a31e-cd48dbb25fe3",
        "colab": {
          "base_uri": "https://localhost:8080/",
          "height": 34
        }
      },
      "source": [
        "def mixing_method_1(data):\n",
        "  inputs = [] # clear input\n",
        "  labels = [] # clear labels\n",
        "  images_cifar, labels_cifar = data\n",
        "  images_cifar = images_cifar.numpy()\n",
        "  labels_cifar = labels_cifar.numpy()\n",
        "\n",
        "  for j in range(0, len(images_cifar[:,0,0,0])):\n",
        "    # remove image1 from subdataset\n",
        "    subdata_ic = np.concatenate((images_cifar[:j,:,:,:],images_cifar[j+1:,:,:,:]), axis = 0)\n",
        "    subdata_lc = np.concatenate((labels_cifar[:j],labels_cifar[j+1:]), axis = 0)\n",
        "    # get subdataset with same labels as image1\n",
        "    subdata_ic = subdata_ic[subdata_lc[:]==labels_cifar[j],:,:,:]\n",
        "    subdata_lc = subdata_lc[subdata_lc[:]==labels_cifar[j]]\n",
        "    if len(subdata_ic[:,0,0,0])==0:\n",
        "        break\n",
        "    else:\n",
        "        # pick a random image from the subdataset to get image2\n",
        "        randim = np.random.randint(0,len(subdata_ic[:,0,0,0]))\n",
        "        # mix images\n",
        "        images_mix, labels_mix = mix(images_cifar[j,:,:,:], subdata_ic[randim,:,:,:], labels_cifar[j], subdata_lc[randim], optplus, \n",
        "                                      True)\n",
        "        inputs.append(images_mix)\n",
        "        labels.append(labels_mix)\n",
        "  \n",
        "  return inputs, labels\n",
        "\n",
        "def mixing_method_2(data):\n",
        "  inputs = [] # clear input\n",
        "  labels = [] # clear labels\n",
        "  images_cifar, labels_cifar = data\n",
        "  images_cifar = images_cifar.numpy()\n",
        "  labels_cifar = labels_cifar.numpy()\n",
        "\n",
        "  for j in range(0, len(images_cifar[:,0,0,0])):\n",
        "    # remove image1 from subdataset\n",
        "    subdata_ic = np.concatenate((images_cifar[:j,:,:,:],images_cifar[j+1:,:,:,:]), axis = 0)\n",
        "    subdata_lc = np.concatenate((labels_cifar[:j],labels_cifar[j+1:]), axis = 0)\n",
        "    # pick a random image from the subdataset to get image2\n",
        "    randim = np.random.randint(0,len(subdata_ic[:,0,0,0]))\n",
        "    # mix images\n",
        "    images_mix, labels_mix = mix(images_cifar[j,:,:,:], subdata_ic[randim,:,:,:], labels_cifar[j], subdata_lc[randim], optplus, \n",
        "                                    True)\n",
        "    inputs.append(images_mix)\n",
        "    labels.append(labels_mix)\n",
        "  return inputs, labels\n",
        "\n",
        "def mixing_method_3(data):\n",
        "  inputs = [] # clear input\n",
        "  labels = [] # clear labels\n",
        "  images_cifar, labels_cifar = data\n",
        "  images_cifar = images_cifar.numpy()\n",
        "  labels_cifar = labels_cifar.numpy()\n",
        "\n",
        "  for j in range(0, len(images_cifar[:,0,0,0])):\n",
        "    # remove image1 from subdataset\n",
        "    subdata_ic = np.concatenate((images_cifar[:j,:,:,:],images_cifar[j+1:,:,:,:]), axis = 0)\n",
        "    subdata_lc = np.concatenate((labels_cifar[:j],labels_cifar[j+1:]), axis = 0)\n",
        "    # get subdataset with different labels than image1\n",
        "    subdata_ic = subdata_ic[subdata_lc[:]!=labels_cifar[j],:,:,:]\n",
        "    subdata_lc = subdata_lc[subdata_lc[:]!=labels_cifar[j]]\n",
        "    # pick a random image from the subdataset to get image2\n",
        "    randim = np.random.randint(0,len(subdata_ic[:,0,0,0]))\n",
        "    # mix images\n",
        "    images_mix, labels_mix = mix(images_cifar[j,:,:,:], subdata_ic[randim,:,:,:], labels_cifar[j], subdata_lc[randim], optplus, \n",
        "                                    True)\n",
        "    inputs.append(images_mix)\n",
        "    labels.append(labels_mix)\n",
        "  return inputs, labels\n",
        "\n",
        "def mixing_method_4(data):\n",
        "  inputs = [] # clear input\n",
        "  labels = [] # clear labels\n",
        "  images_cifar, labels_cifar = data\n",
        "  images_cifar = images_cifar.numpy()\n",
        "  labels_cifar = labels_cifar.numpy()\n",
        "\n",
        "  for j in range(0, len(images_cifar[:,0,0,0])):\n",
        "    randu = np.random.random()\n",
        "    if randu < 0.5:\n",
        "        # remove image1 from subdataset\n",
        "        subdata_ic = np.concatenate((images_cifar[:j,:,:,:],images_cifar[j+1:,:,:,:]), axis = 0)\n",
        "        subdata_lc = np.concatenate((labels_cifar[:j],labels_cifar[j+1:]), axis = 0)\n",
        "        # get subdataset with different labels than image1\n",
        "        subdata_ic = subdata_ic[subdata_lc[:] != labels_cifar[j], :, :, :]\n",
        "        subdata_lc = subdata_lc[subdata_lc[:] != labels_cifar[j]]\n",
        "        # pick a random image from the subdataset to get image2\n",
        "        randim = np.random.randint(0, len(subdata_ic[:, 0, 0, 0]))\n",
        "        # mix images\n",
        "        images_mix, labels_mix = mix(images_cifar[j, :, :, :], subdata_ic[randim, :, :, :], labels_cifar[j],\n",
        "                                      subdata_lc[randim], optplus,\n",
        "                                      True)\n",
        "        inputs.append(images_mix)\n",
        "        labels.append(labels_mix)\n",
        "    else:\n",
        "        # remove image1 from subdataset\n",
        "        subdata_ic = np.concatenate((images_cifar[:j,:,:,:],images_cifar[j+1:,:,:,:]), axis = 0)\n",
        "        subdata_lc = np.concatenate((labels_cifar[:j],labels_cifar[j+1:]), axis = 0)\n",
        "        # get subdataset with different labels then image1\n",
        "        subdata_ic = subdata_ic[subdata_lc[:] != labels_cifar[j], :, :, :]\n",
        "        subdata_lc = subdata_lc[subdata_lc[:] != labels_cifar[j]]\n",
        "        # pick a random image from the subdataset to get image2\n",
        "        randim = np.random.randint(0, len(subdata_ic[:, 0, 0, 0]))\n",
        "        # remove image2 from subdataset2\n",
        "        subdata_ic2 =  np.concatenate((subdata_ic[:randim,:,:,:],subdata_ic[randim+1:,:,:,:]), axis = 0)\n",
        "        subdata_lc2 = np.concatenate((subdata_lc[:randim],subdata_lc[randim+1:]), axis = 0)\n",
        "        # get subdataset2 with different labels then image1 and image2\n",
        "        subdata_ic2 = subdata_ic2[subdata_lc2[:] != subdata_lc[randim], :, :, :]\n",
        "        subdata_lc2 = subdata_lc2[subdata_lc2[:] != subdata_lc[randim]]\n",
        "        # pick a random image fom the subdataset2 to get image3\n",
        "        randim2 = np.random.randint(0, len(subdata_ic2[:, 0, 0, 0]))\n",
        "\n",
        "        # mix images\n",
        "        images_mix, labels_mix = mix2(images_cifar[j, :, :, :], subdata_ic[randim, :, :, :],\n",
        "                                      subdata_ic2[randim2, :, :, :],\n",
        "                                      labels_cifar[j], subdata_lc[randim], subdata_lc2[randim2], optplus, True)\n",
        "\n",
        "        inputs.append(images_mix)\n",
        "        labels.append(labels_mix)\n",
        "  return inputs, labels\n",
        "\n",
        "def mixing_method_5(data):\n",
        "  inputs = [] # clear input\n",
        "  labels = [] # clear labels\n",
        "  images_cifar, labels_cifar = data\n",
        "  images_cifar = images_cifar.numpy()\n",
        "  labels_cifar = labels_cifar.numpy()\n",
        "\n",
        "  for j in range(0, len(images_cifar[:,0,0,0])):\n",
        "    # remove image1 from subdataset\n",
        "    subdata_ic = np.concatenate((images_cifar[:j,:,:,:],images_cifar[j+1:,:,:,:]), axis = 0)\n",
        "    subdata_lc = np.concatenate((labels_cifar[:j],labels_cifar[j+1:]), axis = 0)\n",
        "    # get subdataset with different labels then image1\n",
        "    subdata_ic = subdata_ic[subdata_lc[:] != labels_cifar[j], :, :, :]\n",
        "    subdata_lc = subdata_lc[subdata_lc[:] != labels_cifar[j]]\n",
        "    # pick a random image from the subdataset to get image2\n",
        "    randim = np.random.randint(0, len(subdata_ic[:, 0, 0, 0]))\n",
        "    # remove image2 from subdataset2\n",
        "    subdata_ic2 =  np.concatenate((subdata_ic[:randim,:,:,:],subdata_ic[randim+1:,:,:,:]), axis = 0)\n",
        "    subdata_lc2 = np.concatenate((subdata_lc[:randim],subdata_lc[randim+1:]), axis = 0)\n",
        "    # get subdataset2 with different labels then image1 and image2\n",
        "    subdata_ic2 = subdata_ic2[subdata_lc2[:] != subdata_lc[randim], :, :, :]\n",
        "    subdata_lc2 = subdata_lc2[subdata_lc2[:] != subdata_lc[randim]]\n",
        "    # pick a random image fom the subdataset2 to get image3\n",
        "    randim2 = np.random.randint(0, len(subdata_ic2[:, 0, 0, 0]))\n",
        "\n",
        "    # mix images\n",
        "    images_mix, labels_mix = mix2(images_cifar[j, :, :, :], subdata_ic[randim, :, :, :],\n",
        "                                  subdata_ic2[randim2, :, :, :],\n",
        "                                  labels_cifar[j], subdata_lc[randim], subdata_lc2[randim2], optplus, True)\n",
        "\n",
        "    inputs.append(images_mix)\n",
        "    labels.append(labels_mix)\n",
        "  return inputs, labels\n",
        "\n",
        "if mixtype == 1:\n",
        "  mixing_method = mixing_method_1\n",
        "  print('N = 1')\n",
        "elif mixtype == 2:\n",
        "  mixing_method = mixing_method_2\n",
        "  print('N = 1 or 2')\n",
        "elif mixtype == 3:\n",
        "  mixing_method = mixing_method_3\n",
        "  print('N = 2')\n",
        "elif mixtype == 4:\n",
        "  mixing_method = mixing_method_4\n",
        "  print('N = 2 or 3')\n",
        "elif mixtype == 5:\n",
        "  mixing_method = mixing_method_5\n",
        "  print('N = 3')\n",
        "  "
      ],
      "execution_count": 0,
      "outputs": [
        {
          "output_type": "stream",
          "text": [
            "N = 1 or 2\n"
          ],
          "name": "stdout"
        }
      ]
    },
    {
      "cell_type": "markdown",
      "metadata": {
        "id": "paoZZvzuqlcN",
        "colab_type": "text"
      },
      "source": [
        "# Data-sets\n",
        "The datasets are downloaded below. In this block you can switch between BC and BC+ by changing the 'optplus' parameter. Data augmentation for training can also be toggled by changing the 'data_augmentation' parameter.\n"
      ]
    },
    {
      "cell_type": "code",
      "metadata": {
        "id": "t52knmD2vTsT",
        "colab_type": "code",
        "outputId": "7328077f-3856-49d2-b62d-990037740b6d",
        "colab": {
          "base_uri": "https://localhost:8080/",
          "height": 100,
          "referenced_widgets": [
            "6c6730c8eb0a4739956850a3d4ba4c1a",
            "dce85b35a9cf4d1e8fa8d585dd0142e4",
            "76cad2b48fe440e594861958f68bb139",
            "6fdddb1128274fed9c2af5ec1cb5595a",
            "7977c4c1f8934d419b14bc817aaa8553",
            "cd9f25c686734ff5a0f00e51ef77264f",
            "5a55790de5a248bb80990e5004c9a44f",
            "38a51c2733d14a81aaea1d2d85ea21b2"
          ]
        }
      },
      "source": [
        "# Functions and database download\n",
        "\n",
        "def imshow(img):\n",
        "    img = img / 2 + 0.5  # unnormalize\n",
        "    npimg = img.numpy()\n",
        "    plt.imshow(np.transpose(npimg, (1, 2, 0)))\n",
        "    plt.show()\n",
        "\n",
        "\n",
        "\n",
        "\n",
        "def get_test_error(net, testloader):\n",
        "  correct = 0\n",
        "  total = 0\n",
        "  net.eval()\n",
        "  with torch.no_grad():\n",
        "      for data in testloader:\n",
        "          images, labels = data\n",
        "          images = images.to(device)\n",
        "          labels = labels.to(device)\n",
        "          outputs = net(images)\n",
        "          _, predicted = torch.max(outputs.data, 1)\n",
        "          total += labels.size(0)\n",
        "          correct += (predicted == labels).sum().item()\n",
        "          test_error = 100 - 100 * correct / total\n",
        "  return test_error\n",
        "\n",
        "def get_training_error(net, trainloader):\n",
        "  correct = 0\n",
        "  total = 0\n",
        "  net.eval()\n",
        "  with torch.no_grad():\n",
        "      for data in trainloader:\n",
        "          images, labels = data\n",
        "          images = images.to(device)\n",
        "          labels = labels.to(device)\n",
        "          outputs = net(images)\n",
        "          _, predicted = torch.max(outputs.data, 1)\n",
        "          total += labels.size(0)\n",
        "          correct += (predicted == labels).sum().item()\n",
        "          train_error = 100 - 100 * correct / total\n",
        "  return train_error\n",
        "\n",
        "# Getting images\n",
        "\n",
        "optplus = True # BC or BC+ \n",
        "\n",
        "data_augmentation = True\n",
        "\n",
        "drive_path = '/content/drive/My Drive/CS4240 - Deep Learning/Reproducibility project/Results/'\n",
        "\n",
        "batchsize = 128\n",
        "\n",
        "# Get input and define classes\n",
        "\n",
        "\n",
        "transform_test = transforms.Compose([\n",
        "    transforms.ToTensor(),\n",
        "    transforms.Normalize((0.4914, 0.4822, 0.4465), (0.2023, 0.1994, 0.2010)),\n",
        "])\n",
        "\n",
        "if data_augmentation:\n",
        "  transform_train = transforms.Compose([\n",
        "      transforms.RandomCrop(32, padding=4),\n",
        "      transforms.RandomHorizontalFlip(),\n",
        "      transforms.ToTensor(),\n",
        "      transforms.Normalize((0.4914, 0.4822, 0.4465), (0.2023, 0.1994, 0.2010)),\n",
        "  ])\n",
        "else:\n",
        "  transform_train = transform_test\n",
        "\n",
        "\n",
        "trainset = torchvision.datasets.CIFAR10(root='./data', train=True,\n",
        "                                        download=True, transform=transform_train)\n",
        "trainloader = torch.utils.data.DataLoader(trainset, batch_size=batchsize,\n",
        "                                          shuffle=True, num_workers=2)\n",
        "\n",
        "testset = torchvision.datasets.CIFAR10(root='./data', train=False,\n",
        "                                       download=True, transform=transform_test)\n",
        "testloader = torch.utils.data.DataLoader(testset, batch_size=100,\n",
        "                                         shuffle=False, num_workers=2)\n",
        "\n",
        "classes = ('plane', 'car', 'bird', 'cat',\n",
        "           'deer', 'dog', 'frog', 'horse', 'ship', 'truck')\n",
        "\n",
        "nClasses = len(classes)\n",
        "\n",
        "dataiter = iter(trainloader)\n",
        "\n",
        "device = torch.device(\"cuda:0\" if torch.cuda.is_available() else \"cpu\")\n"
      ],
      "execution_count": 0,
      "outputs": [
        {
          "output_type": "stream",
          "text": [
            "Downloading https://www.cs.toronto.edu/~kriz/cifar-10-python.tar.gz to ./data/cifar-10-python.tar.gz\n"
          ],
          "name": "stdout"
        },
        {
          "output_type": "display_data",
          "data": {
            "application/vnd.jupyter.widget-view+json": {
              "model_id": "6c6730c8eb0a4739956850a3d4ba4c1a",
              "version_minor": 0,
              "version_major": 2
            },
            "text/plain": [
              "HBox(children=(IntProgress(value=1, bar_style='info', max=1), HTML(value='')))"
            ]
          },
          "metadata": {
            "tags": []
          }
        },
        {
          "output_type": "stream",
          "text": [
            "Extracting ./data/cifar-10-python.tar.gz to ./data\n",
            "Files already downloaded and verified\n"
          ],
          "name": "stdout"
        }
      ]
    },
    {
      "cell_type": "markdown",
      "metadata": {
        "id": "j9soorHsrPY0",
        "colab_type": "text"
      },
      "source": [
        "# Training: \"Standard\" Network\n",
        "Run this block to train a standard network. The name of the network is defined below and the optimizer parameters a set the ones given in the paper. After training, a pth file is saved as the neural network and a csv file is saved with the progress of the test error per epoch. The parameter 'log_test_error' can be changed to disable testing every epoch."
      ]
    },
    {
      "cell_type": "code",
      "metadata": {
        "id": "iNaxiba6GqWY",
        "colab_type": "code",
        "colab": {}
      },
      "source": [
        "# Train standard network\n",
        "\n",
        "net = ConvNet(nClasses) \n",
        "\n",
        "if torch.cuda.is_available():\n",
        "  net.cuda()\n",
        "  print('Using GPU')\n",
        "else:\n",
        "  print('using CPU')\n",
        "\n",
        "  \n",
        "criterion = nn.KLDivLoss()\n",
        "learning_rate = 0.1 # Initial learning rate\n",
        "nEpoch = 250\n",
        "optimizer = optim.SGD(net.parameters(), lr=learning_rate, momentum=0.9, nesterov=True, weight_decay=5e-4)\n",
        "scheduler = MultiStepLR(optimizer, milestones=[100,150,200], gamma=0.1) # Decrease learning rate at milestones\n",
        "\n",
        "name = 'standard_epoch'+str(nEpoch)+net.__class__.__name__+'_no_augmentation'\n",
        "PATH = '/content/drive/My Drive/CS4240 - Deep Learning/Reproducibility project/Results/' + name + '.pth'\n",
        "\n",
        "test_error_standard = []\n",
        "log_test_error = True\n",
        "\n",
        "for epoch in range(nEpoch):  # Number of epochs (loops over dataset)\n",
        "  running_loss = 0.0\n",
        "  net.train()\n",
        "  for i, data in enumerate(trainloader):\n",
        "      # get the inputs; data is a list of [inputs, labels]\n",
        "      \n",
        "      label = []\n",
        "      images_cifar, labels_cifar = data\n",
        "\n",
        "      for j in range(len(labels_cifar)): # Transform labels into one out of K encoding\n",
        "        label.append((torch.eye(10)[int(labels_cifar[j])]))\n",
        "      labels = torch.stack(label).to(device)\n",
        "\n",
        "      optimizer.zero_grad()\n",
        "      # forward + backward + optimize\n",
        "      outputs = net(images_cifar.to(device))\n",
        "\n",
        "      outputs = F.log_softmax(outputs, 1)\n",
        "\n",
        "      loss = criterion(outputs, labels)\n",
        "      loss.backward()\n",
        "      optimizer.step() # Update weights\n",
        "\n",
        "      running_loss += loss.item()\n",
        "\n",
        "  \n",
        "  print('[%d, %5d] loss: %.3f' %\n",
        "        (epoch + 1, i, running_loss / i))\n",
        "  running_loss = 0.0\n",
        "\n",
        "  scheduler.step()\n",
        "  if log_test_error: # Test network at each epoch and save test error\n",
        "    test_error = get_test_error(net, testloader)\n",
        "    test_error_standard.append(test_error)\n",
        "    print('Test error: %.2f %%' % (\n",
        "        test_error))\n",
        "\n",
        "\n",
        "print('Finished Training')\n",
        "\n",
        "torch.save(net.state_dict(), PATH)\n",
        "np.savetxt(drive_path+name+'.csv',test_error_standard)"
      ],
      "execution_count": 0,
      "outputs": []
    },
    {
      "cell_type": "markdown",
      "metadata": {
        "id": "8fzx8Qakrc0T",
        "colab_type": "text"
      },
      "source": [
        "# Training: \"BC\" or \"BC+\" Network\n",
        "\n",
        "Run this block to train a BC or BC+ network. The name of the network is defined below and the optimizer parameters a set the ones given in the paper. After training, a pth file is saved as the neural network and a csv file is saved with the progress of the test error per epoch. The parameter 'log_test_error' can be changed to disable testing every epoch. The parameters 'optplus' should be changed to distinguish between a BC and BC+ network."
      ]
    },
    {
      "cell_type": "code",
      "metadata": {
        "colab_type": "code",
        "outputId": "3e8f6675-9a32-4a1b-a2aa-bf4174dcddaf",
        "id": "KM9_E3dAnF--",
        "colab": {
          "base_uri": "https://localhost:8080/",
          "height": 490
        }
      },
      "source": [
        "# Train BC or BC+ network\n",
        "\n",
        "net = ConvNet(nClasses) \n",
        "\n",
        "if torch.cuda.is_available():\n",
        "  net.cuda()\n",
        "  print('Using GPU')\n",
        "else:\n",
        "  print('using CPU')\n",
        "\n",
        "criterion = nn.KLDivLoss()\n",
        "learning_rate = 0.1 # Initial learning rate\n",
        "optimizer = optim.SGD(net.parameters(), lr=learning_rate, momentum=0.9, nesterov=True, weight_decay=5e-4)\n",
        "scheduler = MultiStepLR(optimizer, milestones=[100,150,200], gamma=0.1) # Decrease learning rate at milestones\n",
        "test_error_bc = []\n",
        "log_test_error = True\n",
        "nEpoch = 250\n",
        "if optplus:\n",
        "    name = 'BCplus_epoch'+str(nEpoch)+net.__class__.__name__+'_n4'\n",
        "else:\n",
        "    name = 'BC_epoch'+str(nEpoch)+net.__class__.__name__+'_trial4'\n",
        "PATH = drive_path + name + '.pth'\n",
        "\n",
        "\n",
        "\n",
        "\n",
        "for epoch in range(nEpoch):  # Number of epochs (loops over dataset)\n",
        "  running_loss = 0.0\n",
        "  net.train()\n",
        "  for i, data in enumerate(trainloader):\n",
        "\n",
        "    inputs, labels = mixing_method(data)\n",
        "\n",
        "\n",
        "    inputs = torch.stack(inputs) # stack tensors\n",
        "    labels = torch.stack(labels)\n",
        "    # time2 = time.time()\n",
        "    # print('mixing took %.2f s' % (time2-time1))\n",
        "    optimizer.zero_grad()\n",
        "\n",
        "    # forward + backward + optimize\n",
        "    outputs = net(inputs)\n",
        "    outputs = F.log_softmax(outputs, 1)\n",
        "    loss = criterion(outputs, labels) # calculate loss\n",
        "    loss.backward() # backprop\n",
        "    optimizer.step() # update weights\n",
        "\n",
        "    # print statistics every 200 loops\n",
        "    running_loss += loss.item()\n",
        "\n",
        "  print('[%d, %5d] loss: %.3f' %\n",
        "        (epoch + 1, i, running_loss / i))\n",
        "  running_loss = 0.0\n",
        "  scheduler.step()\n",
        "  if log_test_error: # Test network at each epoch and save test error\n",
        "    test_error = get_test_error(net, testloader)\n",
        "    print('Test error: %.2f %%' % (\n",
        "        test_error))\n",
        "    test_error_bc.append(test_error)\n",
        "\n",
        "\n",
        "print('Finished Training')\n",
        "\n",
        "torch.save(net.state_dict(), PATH)\n",
        "np.savetxt(drive_path+name+'.csv',test_error_bc)"
      ],
      "execution_count": 0,
      "outputs": [
        {
          "output_type": "stream",
          "text": [
            "Using GPU\n"
          ],
          "name": "stdout"
        },
        {
          "output_type": "stream",
          "text": [
            "/usr/local/lib/python3.6/dist-packages/torch/nn/functional.py:1958: UserWarning: reduction: 'mean' divides the total loss by both the batch size and the support size.'batchmean' divides only by the batch size, and aligns with the KL div math definition.'mean' will be changed to behave the same as 'batchmean' in the next major release.\n",
            "  warnings.warn(\"reduction: 'mean' divides the total loss by both the batch size and the support size.\"\n"
          ],
          "name": "stderr"
        },
        {
          "output_type": "stream",
          "text": [
            "[1,   390] loss: 0.148\n",
            "Test error: 51.18 %\n"
          ],
          "name": "stdout"
        },
        {
          "output_type": "error",
          "ename": "KeyboardInterrupt",
          "evalue": "ignored",
          "traceback": [
            "\u001b[0;31m---------------------------------------------------------------------------\u001b[0m",
            "\u001b[0;31mKeyboardInterrupt\u001b[0m                         Traceback (most recent call last)",
            "\u001b[0;32m<ipython-input-9-f844a9ae3f20>\u001b[0m in \u001b[0;36m<module>\u001b[0;34m()\u001b[0m\n\u001b[1;32m     28\u001b[0m   \u001b[0;32mfor\u001b[0m \u001b[0mi\u001b[0m\u001b[0;34m,\u001b[0m \u001b[0mdata\u001b[0m \u001b[0;32min\u001b[0m \u001b[0menumerate\u001b[0m\u001b[0;34m(\u001b[0m\u001b[0mtrainloader\u001b[0m\u001b[0;34m)\u001b[0m\u001b[0;34m:\u001b[0m\u001b[0;34m\u001b[0m\u001b[0;34m\u001b[0m\u001b[0m\n\u001b[1;32m     29\u001b[0m \u001b[0;34m\u001b[0m\u001b[0m\n\u001b[0;32m---> 30\u001b[0;31m     \u001b[0minputs\u001b[0m\u001b[0;34m,\u001b[0m \u001b[0mlabels\u001b[0m \u001b[0;34m=\u001b[0m \u001b[0mmixing_method\u001b[0m\u001b[0;34m(\u001b[0m\u001b[0mdata\u001b[0m\u001b[0;34m)\u001b[0m\u001b[0;34m\u001b[0m\u001b[0;34m\u001b[0m\u001b[0m\n\u001b[0m\u001b[1;32m     31\u001b[0m \u001b[0;34m\u001b[0m\u001b[0m\n\u001b[1;32m     32\u001b[0m \u001b[0;34m\u001b[0m\u001b[0m\n",
            "\u001b[0;32m<ipython-input-7-c980f4276ed7>\u001b[0m in \u001b[0;36mmixing_method_2\u001b[0;34m(data)\u001b[0m\n\u001b[1;32m     36\u001b[0m     \u001b[0;31m# remove image1 from subdataset\u001b[0m\u001b[0;34m\u001b[0m\u001b[0;34m\u001b[0m\u001b[0;34m\u001b[0m\u001b[0m\n\u001b[1;32m     37\u001b[0m     \u001b[0msubdata_ic\u001b[0m \u001b[0;34m=\u001b[0m \u001b[0mnp\u001b[0m\u001b[0;34m.\u001b[0m\u001b[0mconcatenate\u001b[0m\u001b[0;34m(\u001b[0m\u001b[0;34m(\u001b[0m\u001b[0mimages_cifar\u001b[0m\u001b[0;34m[\u001b[0m\u001b[0;34m:\u001b[0m\u001b[0mj\u001b[0m\u001b[0;34m,\u001b[0m\u001b[0;34m:\u001b[0m\u001b[0;34m,\u001b[0m\u001b[0;34m:\u001b[0m\u001b[0;34m,\u001b[0m\u001b[0;34m:\u001b[0m\u001b[0;34m]\u001b[0m\u001b[0;34m,\u001b[0m\u001b[0mimages_cifar\u001b[0m\u001b[0;34m[\u001b[0m\u001b[0mj\u001b[0m\u001b[0;34m+\u001b[0m\u001b[0;36m1\u001b[0m\u001b[0;34m:\u001b[0m\u001b[0;34m,\u001b[0m\u001b[0;34m:\u001b[0m\u001b[0;34m,\u001b[0m\u001b[0;34m:\u001b[0m\u001b[0;34m,\u001b[0m\u001b[0;34m:\u001b[0m\u001b[0;34m]\u001b[0m\u001b[0;34m)\u001b[0m\u001b[0;34m,\u001b[0m \u001b[0maxis\u001b[0m \u001b[0;34m=\u001b[0m \u001b[0;36m0\u001b[0m\u001b[0;34m)\u001b[0m\u001b[0;34m\u001b[0m\u001b[0;34m\u001b[0m\u001b[0m\n\u001b[0;32m---> 38\u001b[0;31m     \u001b[0msubdata_lc\u001b[0m \u001b[0;34m=\u001b[0m \u001b[0mnp\u001b[0m\u001b[0;34m.\u001b[0m\u001b[0mconcatenate\u001b[0m\u001b[0;34m(\u001b[0m\u001b[0;34m(\u001b[0m\u001b[0mlabels_cifar\u001b[0m\u001b[0;34m[\u001b[0m\u001b[0;34m:\u001b[0m\u001b[0mj\u001b[0m\u001b[0;34m]\u001b[0m\u001b[0;34m,\u001b[0m\u001b[0mlabels_cifar\u001b[0m\u001b[0;34m[\u001b[0m\u001b[0mj\u001b[0m\u001b[0;34m+\u001b[0m\u001b[0;36m1\u001b[0m\u001b[0;34m:\u001b[0m\u001b[0;34m]\u001b[0m\u001b[0;34m)\u001b[0m\u001b[0;34m,\u001b[0m \u001b[0maxis\u001b[0m \u001b[0;34m=\u001b[0m \u001b[0;36m0\u001b[0m\u001b[0;34m)\u001b[0m\u001b[0;34m\u001b[0m\u001b[0;34m\u001b[0m\u001b[0m\n\u001b[0m\u001b[1;32m     39\u001b[0m     \u001b[0;31m# pick a random image from the subdataset to get image2\u001b[0m\u001b[0;34m\u001b[0m\u001b[0;34m\u001b[0m\u001b[0;34m\u001b[0m\u001b[0m\n\u001b[1;32m     40\u001b[0m     \u001b[0mrandim\u001b[0m \u001b[0;34m=\u001b[0m \u001b[0mnp\u001b[0m\u001b[0;34m.\u001b[0m\u001b[0mrandom\u001b[0m\u001b[0;34m.\u001b[0m\u001b[0mrandint\u001b[0m\u001b[0;34m(\u001b[0m\u001b[0;36m0\u001b[0m\u001b[0;34m,\u001b[0m\u001b[0mlen\u001b[0m\u001b[0;34m(\u001b[0m\u001b[0msubdata_ic\u001b[0m\u001b[0;34m[\u001b[0m\u001b[0;34m:\u001b[0m\u001b[0;34m,\u001b[0m\u001b[0;36m0\u001b[0m\u001b[0;34m,\u001b[0m\u001b[0;36m0\u001b[0m\u001b[0;34m,\u001b[0m\u001b[0;36m0\u001b[0m\u001b[0;34m]\u001b[0m\u001b[0;34m)\u001b[0m\u001b[0;34m)\u001b[0m\u001b[0;34m\u001b[0m\u001b[0;34m\u001b[0m\u001b[0m\n",
            "\u001b[0;32m<__array_function__ internals>\u001b[0m in \u001b[0;36mconcatenate\u001b[0;34m(*args, **kwargs)\u001b[0m\n",
            "\u001b[0;31mKeyboardInterrupt\u001b[0m: "
          ]
        }
      ]
    },
    {
      "cell_type": "markdown",
      "metadata": {
        "id": "pk3BxiDoWgtx",
        "colab_type": "text"
      },
      "source": [
        "# Testing\n",
        "Below the generated neural networks can be tested. In the first block, the logged test errors can be plotted for standard, BC and BC+. The blocks below are to generate the results for table 2, 3 and 4 in the paper."
      ]
    },
    {
      "cell_type": "code",
      "metadata": {
        "id": "V7KPY4sEhr2z",
        "colab_type": "code",
        "outputId": "56c00e8c-2b81-476e-81ff-2fc3215a1f2f",
        "colab": {
          "base_uri": "https://localhost:8080/",
          "height": 283
        }
      },
      "source": [
        "# Plot training error\n",
        "import matplotlib.pyplot as plt\n",
        "nEpoch = 250\n",
        "net = ConvNet(nClasses)\n",
        "test_error_standard = np.loadtxt(drive_path+'standard_epoch'+str(nEpoch)+net.__class__.__name__+'.csv')\n",
        "test_error_bc = np.loadtxt(drive_path+'BC_epoch'+str(nEpoch)+net.__class__.__name__+'_trial4'+'.csv')\n",
        "test_error_bcplus = np.loadtxt(drive_path+'BCplus_epoch'+str(nEpoch)+net.__class__.__name__+'_trial10'+'.csv')\n",
        "\n",
        "plt.plot(np.arange(nEpoch),np.array(test_error_standard))\n",
        "plt.plot(np.arange(nEpoch),np.array(test_error_bc))\n",
        "plt.plot(np.arange(nEpoch),np.array(test_error_bcplus))\n",
        "plt.ylim([0,30])\n",
        "plt.xlabel('Epoch')\n",
        "plt.ylabel('Test Error (%)')\n",
        "plt.legend((['Standard','BC','BC+']))\n",
        "axes = plt.gca()\n",
        "axes.yaxis.grid()\n",
        "plt.savefig(drive_path+'test_error_250')\n",
        "\n",
        "plt.show()"
      ],
      "execution_count": 0,
      "outputs": [
        {
          "output_type": "display_data",
          "data": {
            "image/png": "[encoded data removed]",
            "text/plain": [
              "<Figure size 432x288 with 1 Axes>"
            ]
          },
          "metadata": {
            "tags": []
          }
        }
      ]
    },
    {
      "cell_type": "code",
      "metadata": {
        "id": "2pOeuGcAbtD6",
        "colab_type": "code",
        "outputId": "9d4763fa-90f9-4bbb-bf99-1aa96e17844a",
        "colab": {
          "base_uri": "https://localhost:8080/",
          "height": 51
        }
      },
      "source": [
        "# Test the accuracy for 10000 test images\n",
        "\n",
        "net = ConvNet(10)\n",
        "net.to(device)\n",
        "\n",
        "PATH = drive_path+'BCplus_epoch250ConvNet_n1N3.pth'\n",
        "net.load_state_dict(torch.load(PATH))\n",
        "\n",
        "test_error = get_test_error(net, testloader)\n",
        "train_error = get_training_error(net, trainloader)\n",
        "print('Test error: %.2f %%' % (\n",
        "  test_error))\n",
        "print('Training error: %.2f %%' % (\n",
        "  train_error))"
      ],
      "execution_count": 0,
      "outputs": [
        {
          "output_type": "stream",
          "text": [
            "Test error: 5.68 %\n",
            "Training error: 0.22 %\n"
          ],
          "name": "stdout"
        }
      ]
    },
    {
      "cell_type": "code",
      "metadata": {
        "id": "U5Lumqnx45Ly",
        "colab_type": "code",
        "outputId": "5e661f6d-3da5-4bf6-d6cf-24b3e88c2a27",
        "colab": {
          "base_uri": "https://localhost:8080/",
          "height": 68
        }
      },
      "source": [
        "# Create Table 2\n",
        "\n",
        "net = ConvNet(10)\n",
        "net.to(device)\n",
        "net.eval()\n",
        "\n",
        "standard_models = [f for f in listdir(drive_path+'Standard/') if isfile(join(drive_path+'Standard/', f))]\n",
        "standard_errors = np.empty(len(standard_models))\n",
        "for i, model in enumerate(standard_models):\n",
        "  path = drive_path+'Standard/'+model\n",
        "  net.load_state_dict(torch.load(path))\n",
        "  standard_errors[i] = get_test_error(net, testloader)\n",
        "print('Standard average (%%): %.2f +/- %.2f (for %d trials)' % (np.average(standard_errors), np.std(standard_errors), len(standard_models)))\n",
        "\n",
        "bc_models = [f for f in listdir(drive_path+'BC/') if isfile(join(drive_path+'BC/', f))]\n",
        "bc_errors = np.empty(len(bc_models))\n",
        "for i, model in enumerate(bc_models):\n",
        "  path = drive_path+'BC/'+model\n",
        "  net.load_state_dict(torch.load(path))\n",
        "  bc_errors[i] = get_test_error(net, testloader)\n",
        "print('BC average (%%): %.2f  +/- %.2f (for %d trials)' % (np.average(bc_errors), np.std(bc_errors), len(bc_models)))\n",
        "\n",
        "bcplus_models = [f for f in listdir(drive_path+'BCplus/') if isfile(join(drive_path+'BCplus/', f))]\n",
        "bcplus_errors = np.empty(len(bcplus_models))\n",
        "for i, model in enumerate(bcplus_models):\n",
        "  path = drive_path+'BCplus/'+model\n",
        "  net.load_state_dict(torch.load(path))\n",
        "  bcplus_errors[i] = get_test_error(net, testloader)\n",
        "print('BC+ average (%%): %.2f  +/- %.2f (for %d trials)' % (np.average(bcplus_errors), np.std(bcplus_errors), len(bcplus_models)))\n",
        "\n"
      ],
      "execution_count": 0,
      "outputs": [
        {
          "output_type": "stream",
          "text": [
            "Standard average (%): 7.04 +/- 0.06 (for 5 trials)\n",
            "BC average (%): 5.92  +/- 0.05 (for 4 trials)\n",
            "BC+ average (%): 5.85  +/- 0.12 (for 5 trials)\n"
          ],
          "name": "stdout"
        }
      ]
    },
    {
      "cell_type": "code",
      "metadata": {
        "id": "nC7OxEy-qJCB",
        "colab_type": "code",
        "outputId": "28436346-1ca8-4927-a2a5-b3c9d0aadac4",
        "colab": {
          "base_uri": "https://localhost:8080/",
          "height": 85
        }
      },
      "source": [
        "# Create Table 3\n",
        "net.eval()\n",
        "\n",
        "augment_models = ['standard_epoch250ConvNet_withoutDataAugmentation.pth','BC_epoch250ConvNet_BC_withoutDataAugmentation.pth']\n",
        "augment_errors = np.empty(len(augment_models))\n",
        "\n",
        "for i, model in enumerate(augment_models):\n",
        "  path = drive_path+'Augmentation/'+model\n",
        "  net.load_state_dict(torch.load(path))\n",
        "  augment_errors[i] = get_test_error(net, testloader)\n",
        "\n",
        "print(\"\"\"Standard without Data Augmentation: %.2f %% \\n\n",
        "BC without Data Augmentation: %.2f %%\n",
        "\"\"\" % (augment_errors[0], augment_errors[1]))\n",
        "\n"
      ],
      "execution_count": 0,
      "outputs": [
        {
          "output_type": "stream",
          "text": [
            "Standard without Data Augmentation: 10.08 % \n",
            "\n",
            "BC without Data Augmentation: 8.33 %\n",
            "\n"
          ],
          "name": "stdout"
        }
      ]
    },
    {
      "cell_type": "code",
      "metadata": {
        "id": "vZC2RUhxlZru",
        "colab_type": "code",
        "outputId": "0d9acd72-af50-4fbc-a2f9-480d3bc59ff7",
        "colab": {
          "base_uri": "https://localhost:8080/",
          "height": 170
        }
      },
      "source": [
        "# Create '#mixed classes' in Table 4\n",
        "\n",
        "net.eval()\n",
        "ablation_models = ['BC_epoch250ConvNet_n1.pth', 'BC_epoch250ConvNet_n2.pth', 'BC_epoch250ConvNet_n3.pth', 'BC_epoch250ConvNet_n4.pth', 'BC_epoch250ConvNet_n5.pth']\n",
        "ablation_errors = np.empty(len(ablation_models))\n",
        "\n",
        "for i, model in enumerate(ablation_models):\n",
        "  path = drive_path+'Ablation/'+model\n",
        "  net.load_state_dict(torch.load(path))\n",
        "  ablation_errors[i] = get_test_error(net, testloader)\n",
        "\n",
        "print(\"\"\"N = 1 : %.2f %% \\n\n",
        "N = 1 or 2: %.2f %% \\n\n",
        "N = 2: %.2f %% \\n\n",
        "N = 2 or 3: %.2f %% \\n\n",
        "N = 3: %.2f %%\"\"\" % (ablation_errors[0], ablation_errors[1], ablation_errors[2], ablation_errors[3], ablation_errors[4]) )"
      ],
      "execution_count": 0,
      "outputs": [
        {
          "output_type": "stream",
          "text": [
            "N = 1 : 5.93 % \n",
            "\n",
            "N = 1 or 2: 5.88 % \n",
            "\n",
            "N = 2: 5.68 % \n",
            "\n",
            "N = 2 or 3: 5.54 % \n",
            "\n",
            "N = 3: 6.05 %\n"
          ],
          "name": "stdout"
        }
      ]
    }
  ]
}